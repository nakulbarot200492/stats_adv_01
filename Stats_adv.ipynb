{
 "cells": [
  {
   "cell_type": "markdown",
   "id": "6f723716-3675-4d71-9635-b94bcc40b841",
   "metadata": {},
   "source": [
    "#### Q1. What is the Probability density function?\n",
    "##### A probability density function (PDF) is a function that describes the relative likelihood for a continuous random variable to take on a given value. The probability of the random variable falling within a particular range is given by the integral of the PDF over that range."
   ]
  },
  {
   "cell_type": "markdown",
   "id": "05900ace-63fd-4f86-aebf-acdf96e494e2",
   "metadata": {},
   "source": [
    "### Q2. What are the types of Probability distribution?\n",
    "\n",
    "#### There are many types of probability distributions, but some common ones include:\n",
    "\n",
    "#### 1.Normal (Gaussian) distribution\n",
    "#### 2.Binomial distribution\n",
    "#### 3.Poisson distribution\n",
    "#### 4.Uniform distribution\n",
    "#### 5.Exponential distribution\n",
    "#### 6.Beta distribution\n",
    "#### 7.Gamma distribution\n",
    "#### 8.Chi-square distribution\n",
    "#### 9.Student's t-distribution\n",
    "#### 10.Log-normal distribution"
   ]
  },
  {
   "cell_type": "code",
   "execution_count": 1,
   "id": "6b1a1b0a-822b-4043-af0d-2ffac99005ec",
   "metadata": {},
   "outputs": [
    {
     "name": "stdout",
     "output_type": "stream",
     "text": [
      "0.3989422804014327\n"
     ]
    }
   ],
   "source": [
    "#### Q3. Write a Python function to calculate the probability density function of a normal distribution with given mean \n",
    "## and standard deviation at a given point.\n",
    "\n",
    "import math\n",
    "\n",
    "def normal_pdf(x, mean, std_dev):\n",
    "    coefficient = 1 / (std_dev * math.sqrt(2 * math.pi))\n",
    "    exponent = -((x - mean) ** 2) / (2 * (std_dev ** 2))\n",
    "    return coefficient * math.exp(exponent)\n",
    "\n",
    "# Example usage\n",
    "print(normal_pdf(0, 0, 1)) \n",
    "\n"
   ]
  },
  {
   "cell_type": "raw",
   "id": "7dd8198b-4d7c-434f-8632-fefd45d94da7",
   "metadata": {},
   "source": [
    "Q4. What are the properties of Binomial distribution? Give two examples of events where binomial distribution can be applied.\n",
    "\n",
    "\n",
    "Properties of Binomial distribution:\n",
    "\n",
    "It models a fixed number of independent trials.\n",
    "Each trial has only two possible outcomes (success or failure).\n",
    "The probability of success is constant for each trial.\n",
    "The number of successes is the random variable being measured.\n",
    "\n",
    "Examples:\n",
    "\n",
    "The number of heads in 10 coin flips.\n",
    "The number of defective items in a batch of 100 products."
   ]
  },
  {
   "cell_type": "markdown",
   "id": "50cc70da-0e63-47eb-a16b-dbe5bda852bf",
   "metadata": {},
   "source": [
    "#### Q5. Generate a random sample of size 1000 from a binomial distribution with probability of success 0.4 and plot a histogram of the results using matplotlib."
   ]
  },
  {
   "cell_type": "code",
   "execution_count": 4,
   "id": "b344c91e-abe8-4b6b-a0e6-a7f1984444c2",
   "metadata": {},
   "outputs": [
    {
     "data": {
      "image/png": "[encoded data removed]",
      "text/plain": [
       "<Figure size 640x480 with 1 Axes>"
      ]
     },
     "metadata": {},
     "output_type": "display_data"
    }
   ],
   "source": [
    "import numpy as np\n",
    "import matplotlib.pyplot as plt\n",
    "\n",
    "# Generate the sample\n",
    "sample = np.random.binomial(n=1, p=0.4, size=1000)\n",
    "\n",
    "# Plot the histogram\n",
    "plt.hist(sample, bins=2, edgecolor='black')\n",
    "plt.title('Histogram of Binomial Distribution (n=1, p=0.4)')\n",
    "plt.xlabel('Number of Successes')\n",
    "plt.ylabel('Frequency')\n",
    "plt.show()"
   ]
  },
  {
   "cell_type": "markdown",
   "id": "c1894dad-4dd7-43a8-ad61-32d268cb55ff",
   "metadata": {},
   "source": [
    "### 6. Write a Python function to calculate the cumulative distribution function of a Poisson distribution with given mean at a given point."
   ]
  },
  {
   "cell_type": "code",
   "execution_count": 5,
   "id": "9611005a-46d2-4d33-8ed3-0a4d6737e906",
   "metadata": {},
   "outputs": [
    {
     "name": "stdout",
     "output_type": "stream",
     "text": [
      "0.8571234604985472\n"
     ]
    }
   ],
   "source": [
    "import math\n",
    "\n",
    "def poisson_cdf(k, lambda_):\n",
    "    cdf = 0\n",
    "    for i in range(k + 1):\n",
    "        cdf += (math.exp(-lambda_) * lambda_**i) / math.factorial(i)\n",
    "    return cdf\n",
    "\n",
    "# Example usage\n",
    "print(poisson_cdf(3, 2))"
   ]
  },
  {
   "cell_type": "raw",
   "id": "85430599-0c14-490f-bb42-cd128f34d240",
   "metadata": {},
   "source": [
    "Q7. How is Binomial distribution different from Poisson distribution?\n",
    "\n",
    "Key differences:\n",
    "\n",
    "Binomial distribution models a fixed number of trials, while Poisson distribution models the number of events in a fixed interval.\n",
    "Binomial has two parameters (n and p), while Poisson has one (λ).\n",
    "Binomial is discrete and bounded, while Poisson is discrete but unbounded.\n",
    "Poisson is often used as an approximation for Binomial when n is large and p is small."
   ]
  },
  {
   "cell_type": "markdown",
   "id": "64272ccc-565e-4b9f-b3e4-fdbd5a62ef72",
   "metadata": {},
   "source": [
    "### Q8. Generate a random sample of size 1000 from a Poisson distribution with mean 5 and calculate the sample mean and variance."
   ]
  },
  {
   "cell_type": "code",
   "execution_count": 7,
   "id": "b2766482-5ce0-474d-b466-414704238e10",
   "metadata": {},
   "outputs": [
    {
     "name": "stdout",
     "output_type": "stream",
     "text": [
      "Sample Mean: 5.038\n",
      "Sample Variance: 5.256556\n"
     ]
    }
   ],
   "source": [
    "import numpy as np\n",
    "\n",
    "# Generate the sample\n",
    "sample = np.random.poisson(lam=5, size=1000)\n",
    "\n",
    "# Calculate sample mean and variance\n",
    "sample_mean = np.mean(sample)\n",
    "sample_variance = np.var(sample)\n",
    "\n",
    "print(f\"Sample Mean: {sample_mean}\")\n",
    "print(f\"Sample Variance: {sample_variance}\")"
   ]
  },
  {
   "cell_type": "raw",
   "id": "9ecadf22-800b-4618-838f-6b366813f4d0",
   "metadata": {},
   "source": [
    "Q9. How are mean and variance related in Binomial distribution and Poisson distribution?\n",
    "For Binomial distribution:\n",
    "\n",
    "Mean = np\n",
    "Variance = np(1-p)\n",
    "\n",
    "For Poisson distribution:\n",
    "\n",
    "Mean = λ\n",
    "Variance = λ\n",
    "\n",
    "In Poisson distribution, the mean and variance are equal. In Binomial distribution, the variance is always less than or equal to the mean."
   ]
  },
  {
   "cell_type": "raw",
   "id": "8d3762cd-92ce-4eaf-a1e2-d55061e08daf",
   "metadata": {},
   "source": [
    "Q10. In normal distribution with respect to mean position, where does the least frequent data appear?\n",
    "\n",
    "In a normal distribution, the least frequent data appears at the tails of the distribution, furthest from the mean. The frequency of data decreases symmetrically as you move away from the mean in either direction.\n"
   ]
  },
  {
   "cell_type": "code",
   "execution_count": null,
   "id": "ce37c422-fa7b-42cb-9f28-eeb9fa0dd011",
   "metadata": {},
   "outputs": [],
   "source": []
  }
 ],
 "metadata": {
  "kernelspec": {
   "display_name": "Python 3 (ipykernel)",
   "language": "python",
   "name": "python3"
  },
  "language_info": {
   "codemirror_mode": {
    "name": "ipython",
    "version": 3
   },
   "file_extension": ".py",
   "mimetype": "text/x-python",
   "name": "python",
   "nbconvert_exporter": "python",
   "pygments_lexer": "ipython3",
   "version": "3.10.8"
  }
 },
 "nbformat": 4,
 "nbformat_minor": 5
}
